{
 "cells": [
  {
   "cell_type": "code",
   "execution_count": 2,
   "id": "bd4d9e26",
   "metadata": {},
   "outputs": [],
   "source": [
    "import duckdb as dd\n",
    "\n",
    "# Create an in-memory DuckDB connection\n",
    "con = dd.connect(':memory:')"
   ]
  },
  {
   "cell_type": "code",
   "execution_count": 52,
   "id": "880deee2",
   "metadata": {},
   "outputs": [],
   "source": [
    "con = dd.connect('my_database.db')"
   ]
  },
  {
   "cell_type": "code",
   "execution_count": 3,
   "id": "b503befa",
   "metadata": {},
   "outputs": [
    {
     "name": "stdout",
     "output_type": "stream",
     "text": [
      "<class 'list'>\n",
      "[('DuckDB_is_cool',)]\n"
     ]
    }
   ],
   "source": [
    "result = dd.sql(\"SELECT 'DuckDB_is_cool' AS answer\").fetchall()\n",
    "print(type(result))\n",
    "print(result)"
   ]
  },
  {
   "cell_type": "code",
   "execution_count": 4,
   "id": "d06cf2b9",
   "metadata": {},
   "outputs": [
    {
     "name": "stdout",
     "output_type": "stream",
     "text": [
      "<class 'duckdb.duckdb.DuckDBPyRelation'>\n",
      "┌────────────────┐\n",
      "│     answer     │\n",
      "│    varchar     │\n",
      "├────────────────┤\n",
      "│ DuckDB_is_cool │\n",
      "└────────────────┘\n",
      "\n"
     ]
    }
   ],
   "source": [
    "result = dd.sql(\"SELECT 'DuckDB_is_cool' AS answer\")\n",
    "print( type(result) )\n",
    "print(result)"
   ]
  },
  {
   "cell_type": "code",
   "execution_count": 5,
   "id": "22456a2a",
   "metadata": {},
   "outputs": [
    {
     "name": "stdout",
     "output_type": "stream",
     "text": [
      "┌────────────┐\n",
      "│     ID     │\n",
      "│   int64    │\n",
      "├────────────┤\n",
      "│          0 │\n",
      "│          1 │\n",
      "│          2 │\n",
      "│          3 │\n",
      "│          4 │\n",
      "│          5 │\n",
      "│          6 │\n",
      "│          7 │\n",
      "│          8 │\n",
      "│          9 │\n",
      "│          · │\n",
      "│          · │\n",
      "│          · │\n",
      "│        990 │\n",
      "│        991 │\n",
      "│        992 │\n",
      "│        993 │\n",
      "│        994 │\n",
      "│        995 │\n",
      "│        996 │\n",
      "│        997 │\n",
      "│        998 │\n",
      "│        999 │\n",
      "├────────────┤\n",
      "│ 1000 rows  │\n",
      "│ (20 shown) │\n",
      "└────────────┘\n",
      "\n"
     ]
    }
   ],
   "source": [
    "rel = dd.sql(\"SELECT * FROM range(10_00) AS tbl(ID)\")\n",
    "# Display the relation\n",
    "rel.show()"
   ]
  },
  {
   "cell_type": "code",
   "execution_count": 53,
   "id": "eaa679e8",
   "metadata": {},
   "outputs": [
    {
     "data": {
      "text/plain": [
       "┌─────────────┬─────────┬──────────┬─────────────────────────────────────────────────────────────┬───────────────────────────────────────────────────────────────┬───────────┐\n",
       "│  database   │ schema  │   name   │                        column_names                         │                         column_types                          │ temporary │\n",
       "│   varchar   │ varchar │ varchar  │                          varchar[]                          │                           varchar[]                           │  boolean  │\n",
       "├─────────────┼─────────┼──────────┼─────────────────────────────────────────────────────────────┼───────────────────────────────────────────────────────────────┼───────────┤\n",
       "│ my_database │ main    │ brands   │ [brandname]                                                 │ [VARCHAR]                                                     │ false     │\n",
       "│ my_database │ main    │ fuels    │ [fuelcode]                                                  │ [VARCHAR]                                                     │ false     │\n",
       "│ my_database │ main    │ prices   │ [fuelcode, station, price, updatetime]                      │ [VARCHAR, VARCHAR, DOUBLE, TIMESTAMP]                         │ false     │\n",
       "│ my_database │ main    │ stations │ [stationname, brand, address, suburb, postalcode, lat, lon] │ [VARCHAR, VARCHAR, VARCHAR, VARCHAR, VARCHAR, DOUBLE, DOUBLE] │ false     │\n",
       "└─────────────┴─────────┴──────────┴─────────────────────────────────────────────────────────────┴───────────────────────────────────────────────────────────────┴───────────┘"
      ]
     },
     "execution_count": 53,
     "metadata": {},
     "output_type": "execute_result"
    }
   ],
   "source": [
    "con = dd.connect('my_database.db')\n",
    "con.sql('SHOW ALL TABLES')"
   ]
  },
  {
   "cell_type": "code",
   "execution_count": 11,
   "id": "ded1917b",
   "metadata": {},
   "outputs": [
    {
     "data": {
      "text/plain": [
       "<duckdb.duckdb.DuckDBPyConnection at 0x7be17ff2fc30>"
      ]
     },
     "execution_count": 11,
     "metadata": {},
     "output_type": "execute_result"
    }
   ],
   "source": [
    "# Create a table\n",
    "con.execute('''\n",
    "    CREATE OR REPLACE TABLE countries (\n",
    "        country VARCHAR,\n",
    "        code VARCHAR,\n",
    "        region VARCHAR,\n",
    "        sub_region VARCHAR,\n",
    "        intermediate_region VARCHAR);\n",
    "''')"
   ]
  },
  {
   "cell_type": "code",
   "execution_count": 12,
   "id": "1f1e54cc",
   "metadata": {},
   "outputs": [
    {
     "data": {
      "text/plain": [
       "┌─────────────┬─────────┬───────────┬──────────────────────────────────────────────────────────┬───────────────────────────────────────────────┬───────────┐\n",
       "│  database   │ schema  │   name    │                       column_names                       │                 column_types                  │ temporary │\n",
       "│   varchar   │ varchar │  varchar  │                        varchar[]                         │                   varchar[]                   │  boolean  │\n",
       "├─────────────┼─────────┼───────────┼──────────────────────────────────────────────────────────┼───────────────────────────────────────────────┼───────────┤\n",
       "│ my_database │ main    │ countries │ [country, code, region, sub_region, intermediate_region] │ [VARCHAR, VARCHAR, VARCHAR, VARCHAR, VARCHAR] │ false     │\n",
       "└─────────────┴─────────┴───────────┴──────────────────────────────────────────────────────────┴───────────────────────────────────────────────┴───────────┘"
      ]
     },
     "execution_count": 12,
     "metadata": {},
     "output_type": "execute_result"
    }
   ],
   "source": [
    "\n",
    "# Insert some data\n",
    "con.execute('''\n",
    "INSERT INTO countries VALUES\n",
    "('Australia', 'AUS', 'Oceania', 'Australia and New Zealand', ''),\n",
    "('India', 'IND', 'Asia', 'Southern Asia', '');\n",
    "''')\n",
    "\n",
    "con.sql('SHOW ALL TABLES')"
   ]
  },
  {
   "cell_type": "code",
   "execution_count": 14,
   "id": "174dc917",
   "metadata": {},
   "outputs": [
    {
     "data": {
      "text/plain": [
       "┌─────────────┬─────────┬───────────┬──────────────────────────────────────────────────────────┬───────────────────────────────────────────────┬───────────┐\n",
       "│  database   │ schema  │   name    │                       column_names                       │                 column_types                  │ temporary │\n",
       "│   varchar   │ varchar │  varchar  │                        varchar[]                         │                   varchar[]                   │  boolean  │\n",
       "├─────────────┼─────────┼───────────┼──────────────────────────────────────────────────────────┼───────────────────────────────────────────────┼───────────┤\n",
       "│ my_database │ main    │ countries │ [country, code, region, sub_region, intermediate_region] │ [VARCHAR, VARCHAR, VARCHAR, VARCHAR, VARCHAR] │ false     │\n",
       "│ my_database │ main    │ employees │ [id, name, age, salary]                                  │ [INTEGER, VARCHAR, INTEGER, DOUBLE]           │ false     │\n",
       "└─────────────┴─────────┴───────────┴──────────────────────────────────────────────────────────┴───────────────────────────────────────────────┴───────────┘"
      ]
     },
     "execution_count": 14,
     "metadata": {},
     "output_type": "execute_result"
    }
   ],
   "source": [
    "con.execute('''\n",
    "CREATE OR REPLACE TABLE employees (\n",
    "    id INTEGER,\n",
    "    name VARCHAR,\n",
    "    age INTEGER,\n",
    "    salary DOUBLE\n",
    ");\n",
    "''')\n",
    "\n",
    "# Insert some data in second table\n",
    "con.execute('''\n",
    "INSERT INTO employees VALUES\n",
    "(1, 'Person 1', 30, 70000),\n",
    "(2, 'Person 2', 25, 55000),\n",
    "(3, 'Person 3', 35, 80000);\n",
    "''')\n",
    "\n",
    "\n",
    "# Result of showing tables after creating the second table\n",
    "con.sql('SHOW ALL TABLES')"
   ]
  },
  {
   "cell_type": "code",
   "execution_count": 15,
   "id": "43b923f0",
   "metadata": {},
   "outputs": [
    {
     "data": {
      "text/plain": [
       "┌───────────┬─────────┬─────────┬───────────────────────────┬─────────────────────┐\n",
       "│  country  │  code   │ region  │        sub_region         │ intermediate_region │\n",
       "│  varchar  │ varchar │ varchar │          varchar          │       varchar       │\n",
       "├───────────┼─────────┼─────────┼───────────────────────────┼─────────────────────┤\n",
       "│ Australia │ AUS     │ Oceania │ Australia and New Zealand │                     │\n",
       "│ India     │ IND     │ Asia    │ Southern Asia             │                     │\n",
       "└───────────┴─────────┴─────────┴───────────────────────────┴─────────────────────┘"
      ]
     },
     "execution_count": 15,
     "metadata": {},
     "output_type": "execute_result"
    }
   ],
   "source": [
    "con.sql('SELECT * FROM countries;')"
   ]
  },
  {
   "cell_type": "code",
   "execution_count": null,
   "id": "b2b5ce46",
   "metadata": {},
   "outputs": [
    {
     "data": {
      "text/plain": [
       "┌───────────┬─────────┬─────────┬───────────────────────────┬─────────────────────┐\n",
       "│  country  │  code   │ region  │        sub_region         │ intermediate_region │\n",
       "│  varchar  │ varchar │ varchar │          varchar          │       varchar       │\n",
       "├───────────┼─────────┼─────────┼───────────────────────────┼─────────────────────┤\n",
       "│ Australia │ AUS     │ Oceania │ Australia and New Zealand │                     │\n",
       "└───────────┴─────────┴─────────┴───────────────────────────┴─────────────────────┘"
      ]
     },
     "execution_count": 16,
     "metadata": {},
     "output_type": "execute_result"
    }
   ],
   "source": [
    "con.sql('''\n",
    "        SELECT  *\n",
    "            FROM\n",
    "                countries\n",
    "            WHERE\n",
    "                region = 'Oceania'\n",
    "                AND sub_region = 'Australia and New Zealand'\n",
    "''')"
   ]
  },
  {
   "cell_type": "code",
   "execution_count": 17,
   "id": "776d2f1b",
   "metadata": {},
   "outputs": [
    {
     "data": {
      "text/plain": [
       "┌───────────┬─────────┬─────────┬───────────────────────────┬─────────────────────┐\n",
       "│  country  │  code   │ region  │        sub_region         │ intermediate_region │\n",
       "│  varchar  │ varchar │ varchar │          varchar          │       varchar       │\n",
       "├───────────┼─────────┼─────────┼───────────────────────────┼─────────────────────┤\n",
       "│ Australia │ AUS     │ Oceania │ Australia and New Zealand │                     │\n",
       "│ India     │ IND     │ Asia    │ Southern Asia             │                     │\n",
       "└───────────┴─────────┴─────────┴───────────────────────────┴─────────────────────┘"
      ]
     },
     "execution_count": 17,
     "metadata": {},
     "output_type": "execute_result"
    }
   ],
   "source": [
    "countries = con.sql('SELECT * FROM countries;')\n",
    "countries"
   ]
  },
  {
   "cell_type": "code",
   "execution_count": 18,
   "id": "b5faae48",
   "metadata": {},
   "outputs": [
    {
     "data": {
      "text/plain": [
       "[('Australia', 'AUS', 'Oceania', 'Australia and New Zealand', ''),\n",
       " ('India', 'IND', 'Asia', 'Southern Asia', '')]"
      ]
     },
     "execution_count": 18,
     "metadata": {},
     "output_type": "execute_result"
    }
   ],
   "source": [
    "countries.fetchall()"
   ]
  },
  {
   "cell_type": "code",
   "execution_count": 19,
   "id": "7219de36",
   "metadata": {},
   "outputs": [
    {
     "data": {
      "text/html": [
       "<div>\n",
       "<style scoped>\n",
       "    .dataframe tbody tr th:only-of-type {\n",
       "        vertical-align: middle;\n",
       "    }\n",
       "\n",
       "    .dataframe tbody tr th {\n",
       "        vertical-align: top;\n",
       "    }\n",
       "\n",
       "    .dataframe thead th {\n",
       "        text-align: right;\n",
       "    }\n",
       "</style>\n",
       "<table border=\"1\" class=\"dataframe\">\n",
       "  <thead>\n",
       "    <tr style=\"text-align: right;\">\n",
       "      <th></th>\n",
       "      <th>country</th>\n",
       "      <th>code</th>\n",
       "      <th>region</th>\n",
       "      <th>sub_region</th>\n",
       "      <th>intermediate_region</th>\n",
       "    </tr>\n",
       "  </thead>\n",
       "  <tbody>\n",
       "    <tr>\n",
       "      <th>0</th>\n",
       "      <td>Australia</td>\n",
       "      <td>AUS</td>\n",
       "      <td>Oceania</td>\n",
       "      <td>Australia and New Zealand</td>\n",
       "      <td></td>\n",
       "    </tr>\n",
       "    <tr>\n",
       "      <th>1</th>\n",
       "      <td>India</td>\n",
       "      <td>IND</td>\n",
       "      <td>Asia</td>\n",
       "      <td>Southern Asia</td>\n",
       "      <td></td>\n",
       "    </tr>\n",
       "  </tbody>\n",
       "</table>\n",
       "</div>"
      ],
      "text/plain": [
       "     country code   region                 sub_region intermediate_region\n",
       "0  Australia  AUS  Oceania  Australia and New Zealand                    \n",
       "1      India  IND     Asia              Southern Asia                    "
      ]
     },
     "execution_count": 19,
     "metadata": {},
     "output_type": "execute_result"
    }
   ],
   "source": [
    "countries.to_df()"
   ]
  },
  {
   "cell_type": "code",
   "execution_count": 20,
   "id": "62ba36de",
   "metadata": {},
   "outputs": [
    {
     "data": {
      "text/plain": [
       "┌───────┬──────────┬───────┬──────────┐\n",
       "│  id   │   name   │  age  │  salary  │\n",
       "│ int32 │ varchar  │ int32 │  double  │\n",
       "├───────┼──────────┼───────┼──────────┤\n",
       "│     1 │ Person 1 │    30 │  70000.0 │\n",
       "│     2 │ Person 2 │    25 │  55000.0 │\n",
       "│     3 │ Person 3 │    35 │  80000.0 │\n",
       "│     4 │ Person 4 │    45 │ 100000.0 │\n",
       "│     5 │ Person 5 │    40 │  85000.0 │\n",
       "│     6 │ Person 6 │    35 │  75000.0 │\n",
       "└───────┴──────────┴───────┴──────────┘"
      ]
     },
     "execution_count": 20,
     "metadata": {},
     "output_type": "execute_result"
    }
   ],
   "source": [
    "import pandas as pd\n",
    "\n",
    "df = pd.DataFrame({\n",
    "    'id': [4, 5, 6],\n",
    "    'name': ['Person 4', 'Person 5', 'Person 6'],\n",
    "    'age': [45, 40, 35],\n",
    "    'salary': [100000, 85000, 75000]\n",
    "})\n",
    "\n",
    "con.sql('''\n",
    "        INSERT INTO employees (id, name, age, salary)\n",
    "        SELECT * FROM df\n",
    "''')\n",
    "\n",
    "con.sql('select * from employees')"
   ]
  },
  {
   "cell_type": "code",
   "execution_count": 24,
   "id": "959ee27d",
   "metadata": {},
   "outputs": [],
   "source": [
    "con.sql('DROP TABLE IF EXISTS fuels;')"
   ]
  },
  {
   "cell_type": "code",
   "execution_count": 28,
   "id": "fa8bb47e",
   "metadata": {},
   "outputs": [
    {
     "data": {
      "text/plain": [
       "┌─────────────┬─────────┬──────────┬─────────────────────────────────────────────────────────────┬───────────────────────────────────────────────────────────────┬───────────┐\n",
       "│  database   │ schema  │   name   │                        column_names                         │                         column_types                          │ temporary │\n",
       "│   varchar   │ varchar │ varchar  │                          varchar[]                          │                           varchar[]                           │  boolean  │\n",
       "├─────────────┼─────────┼──────────┼─────────────────────────────────────────────────────────────┼───────────────────────────────────────────────────────────────┼───────────┤\n",
       "│ my_database │ main    │ brands   │ [brandname]                                                 │ [VARCHAR]                                                     │ false     │\n",
       "│ my_database │ main    │ fuels    │ [fuelcode]                                                  │ [VARCHAR]                                                     │ false     │\n",
       "│ my_database │ main    │ prices   │ [fuelcode, station, price, updatetime]                      │ [VARCHAR, VARCHAR, DOUBLE, TIMESTAMP]                         │ false     │\n",
       "│ my_database │ main    │ stations │ [stationname, brand, address, suburb, postalcode, lat, lon] │ [VARCHAR, VARCHAR, VARCHAR, VARCHAR, VARCHAR, DOUBLE, DOUBLE] │ false     │\n",
       "└─────────────┴─────────┴──────────┴─────────────────────────────────────────────────────────────┴───────────────────────────────────────────────────────────────┴───────────┘"
      ]
     },
     "execution_count": 28,
     "metadata": {},
     "output_type": "execute_result"
    }
   ],
   "source": [
    "con.sql('SHOW ALL TABLES')"
   ]
  },
  {
   "cell_type": "code",
   "execution_count": 17,
   "id": "b042943f",
   "metadata": {},
   "outputs": [
    {
     "data": {
      "text/plain": [
       "<duckdb.duckdb.DuckDBPyConnection at 0x7dbb9c247330>"
      ]
     },
     "execution_count": 17,
     "metadata": {},
     "output_type": "execute_result"
    }
   ],
   "source": [
    "con.execute('''\n",
    "    CREATE TABLE brands (\n",
    "        brandname TEXT unique\n",
    "    );\n",
    "''')"
   ]
  },
  {
   "cell_type": "code",
   "execution_count": 26,
   "id": "d973908e",
   "metadata": {},
   "outputs": [
    {
     "data": {
      "text/plain": [
       "<duckdb.duckdb.DuckDBPyConnection at 0x7dbb9c247330>"
      ]
     },
     "execution_count": 26,
     "metadata": {},
     "output_type": "execute_result"
    }
   ],
   "source": [
    "con.execute('''\n",
    "    CREATE TABLE fuels (\n",
    "        fuelcode TEXT unique\n",
    "    );\n",
    "''')"
   ]
  },
  {
   "cell_type": "code",
   "execution_count": 22,
   "id": "04bcbdfe",
   "metadata": {},
   "outputs": [
    {
     "data": {
      "text/plain": [
       "<duckdb.duckdb.DuckDBPyConnection at 0x7dbb9c247330>"
      ]
     },
     "execution_count": 22,
     "metadata": {},
     "output_type": "execute_result"
    }
   ],
   "source": [
    "con.execute('''\n",
    "    CREATE TABLE stations (\n",
    "        stationname TEXT unique,\n",
    "        brand TEXT REFERENCES brands(brandname),\n",
    "        address TEXT,\n",
    "        suburb TEXT,\n",
    "        postalcode TEXT,\n",
    "        lat DOUBLE,\n",
    "        lon DOUBLE,\n",
    "    );\n",
    "''')"
   ]
  },
  {
   "cell_type": "code",
   "execution_count": 27,
   "id": "5e22f9e3",
   "metadata": {},
   "outputs": [
    {
     "data": {
      "text/plain": [
       "<duckdb.duckdb.DuckDBPyConnection at 0x7dbb9c247330>"
      ]
     },
     "execution_count": 27,
     "metadata": {},
     "output_type": "execute_result"
    }
   ],
   "source": [
    "con.execute('''\n",
    "    CREATE TABLE prices (\n",
    "        fuelcode TEXT REFERENCES fuels(fuelcode),\n",
    "        station TEXT REFERENCES stations(stationname),\n",
    "        price DOUBLE,\n",
    "        updatetime TIMESTAMP\n",
    "    );\n",
    "''')"
   ]
  },
  {
   "cell_type": "code",
   "execution_count": 29,
   "id": "bfa822ad",
   "metadata": {},
   "outputs": [],
   "source": [
    "import pandas as pd\n",
    "\n",
    "df = pd.DataFrame({\n",
    "    'brandname': ['seven eleven'],\n",
    "})\n",
    "\n",
    "con.sql('''\n",
    "        INSERT INTO brands (brandname)\n",
    "        SELECT * FROM df\n",
    "''')"
   ]
  },
  {
   "cell_type": "code",
   "execution_count": 30,
   "id": "56369e83",
   "metadata": {},
   "outputs": [
    {
     "data": {
      "text/plain": [
       "┌──────────────┐\n",
       "│  brandname   │\n",
       "│   varchar    │\n",
       "├──────────────┤\n",
       "│ seven eleven │\n",
       "└──────────────┘"
      ]
     },
     "execution_count": 30,
     "metadata": {},
     "output_type": "execute_result"
    }
   ],
   "source": [
    "con.sql('select * from brands')"
   ]
  },
  {
   "cell_type": "code",
   "execution_count": 31,
   "id": "cd15e1bf",
   "metadata": {},
   "outputs": [],
   "source": [
    "df = pd.DataFrame({\n",
    "    'fuelcode': ['94'],\n",
    "})\n",
    "\n",
    "con.sql('''\n",
    "        INSERT INTO fuels (fuelcode)\n",
    "        SELECT * FROM df\n",
    "''')"
   ]
  },
  {
   "cell_type": "code",
   "execution_count": 51,
   "id": "c39fb7d5",
   "metadata": {},
   "outputs": [
    {
     "ename": "CatalogException",
     "evalue": "Catalog Error: Table with name fuels does not exist!\nDid you mean \"pg_class\"?",
     "output_type": "error",
     "traceback": [
      "\u001b[0;31m---------------------------------------------------------------------------\u001b[0m",
      "\u001b[0;31mCatalogException\u001b[0m                          Traceback (most recent call last)",
      "Cell \u001b[0;32mIn[51], line 1\u001b[0m\n\u001b[0;32m----> 1\u001b[0m \u001b[43mcon\u001b[49m\u001b[38;5;241;43m.\u001b[39;49m\u001b[43msql\u001b[49m\u001b[43m(\u001b[49m\u001b[38;5;124;43m'\u001b[39;49m\u001b[38;5;124;43mselect * from fuels\u001b[39;49m\u001b[38;5;124;43m'\u001b[39;49m\u001b[43m)\u001b[49m\n",
      "\u001b[0;31mCatalogException\u001b[0m: Catalog Error: Table with name fuels does not exist!\nDid you mean \"pg_class\"?"
     ]
    }
   ],
   "source": [
    "con.sql('select * from fuels')"
   ]
  },
  {
   "cell_type": "code",
   "execution_count": 33,
   "id": "de490fc2",
   "metadata": {},
   "outputs": [
    {
     "data": {
      "text/plain": [
       "┌─────────────┬──────────────┬───────────────┬─────────┬────────────┬────────┬────────┐\n",
       "│ stationname │    brand     │    address    │ suburb  │ postalcode │  lat   │  lon   │\n",
       "│   varchar   │   varchar    │    varchar    │ varchar │  varchar   │ double │ double │\n",
       "├─────────────┼──────────────┼───────────────┼─────────┼────────────┼────────┼────────┤\n",
       "│ station 1   │ seven eleven │ 1 brisbane st │ Chifley │ 2036       │   50.3 │ 20.901 │\n",
       "└─────────────┴──────────────┴───────────────┴─────────┴────────────┴────────┴────────┘"
      ]
     },
     "execution_count": 33,
     "metadata": {},
     "output_type": "execute_result"
    }
   ],
   "source": [
    "df = pd.DataFrame({\n",
    "    'stationname': ['station 1'],\n",
    "    'brand': ['seven eleven'],\n",
    "    'address': ['1 brisbane st'],\n",
    "    'suburb': ['Chifley'],\n",
    "    'postalcode': ['2036'],\n",
    "    'lat': [50.300],\n",
    "    'lon': [20.901],\n",
    "})\n",
    "\n",
    "con.sql('''\n",
    "        INSERT INTO stations (stationname, brand, address, suburb, postalcode, lat, lon)\n",
    "        SELECT * FROM df\n",
    "''')\n",
    "\n",
    "con.sql('select * from stations')"
   ]
  },
  {
   "cell_type": "code",
   "execution_count": 37,
   "id": "7fc1fbbf",
   "metadata": {},
   "outputs": [
    {
     "data": {
      "text/plain": [
       "┌──────────┬───────────┬────────┬────────────────────────────┐\n",
       "│ fuelcode │  station  │ price  │         updatetime         │\n",
       "│ varchar  │  varchar  │ double │         timestamp          │\n",
       "├──────────┼───────────┼────────┼────────────────────────────┤\n",
       "│ 94       │ station 1 │  210.5 │ 2025-04-11 08:36:08.303049 │\n",
       "│ 94       │ station 1 │  210.5 │ 2025-04-11 08:36:43.802418 │\n",
       "└──────────┴───────────┴────────┴────────────────────────────┘"
      ]
     },
     "execution_count": 37,
     "metadata": {},
     "output_type": "execute_result"
    }
   ],
   "source": [
    "from datetime import datetime\n",
    "\n",
    "df = pd.DataFrame({\n",
    "    'station': ['station 1'],\n",
    "    'fuelcode': ['94'],\n",
    "    'updatetime': [datetime.now()],\n",
    "    'price': [210.5],\n",
    "})\n",
    "\n",
    "con.sql('''\n",
    "        INSERT INTO prices (station, fuelcode, updatetime, price)\n",
    "        SELECT * FROM df\n",
    "''')\n",
    "\n",
    "con.sql('select * from prices')"
   ]
  },
  {
   "cell_type": "code",
   "execution_count": 55,
   "id": "c3654a62",
   "metadata": {},
   "outputs": [
    {
     "data": {
      "text/plain": [
       "[('my_database', 'main', 'brands', ['brandname'], ['VARCHAR'], False),\n",
       " ('my_database', 'main', 'fuels', ['fuelcode'], ['VARCHAR'], False),\n",
       " ('my_database',\n",
       "  'main',\n",
       "  'prices',\n",
       "  ['fuelcode', 'station', 'price', 'updatetime'],\n",
       "  ['VARCHAR', 'VARCHAR', 'DOUBLE', 'TIMESTAMP'],\n",
       "  False),\n",
       " ('my_database',\n",
       "  'main',\n",
       "  'stations',\n",
       "  ['stationname', 'brand', 'address', 'suburb', 'postalcode', 'lat', 'lon'],\n",
       "  ['VARCHAR', 'VARCHAR', 'VARCHAR', 'VARCHAR', 'VARCHAR', 'DOUBLE', 'DOUBLE'],\n",
       "  False)]"
      ]
     },
     "execution_count": 55,
     "metadata": {},
     "output_type": "execute_result"
    }
   ],
   "source": [
    "import duckdb\n",
    "import graphviz\n",
    "\n",
    "\n",
    "tables = con.sql(\"\"\"\n",
    "    SHOW ALL TABLES;\n",
    "\"\"\").fetchall()\n",
    "\n",
    "tables"
   ]
  },
  {
   "cell_type": "code",
   "execution_count": null,
   "id": "b81319ab",
   "metadata": {},
   "outputs": [],
   "source": []
  }
 ],
 "metadata": {
  "kernelspec": {
   "display_name": "Python 3",
   "language": "python",
   "name": "python3"
  },
  "language_info": {
   "codemirror_mode": {
    "name": "ipython",
    "version": 3
   },
   "file_extension": ".py",
   "mimetype": "text/x-python",
   "name": "python",
   "nbconvert_exporter": "python",
   "pygments_lexer": "ipython3",
   "version": "3.12.1"
  }
 },
 "nbformat": 4,
 "nbformat_minor": 5
}

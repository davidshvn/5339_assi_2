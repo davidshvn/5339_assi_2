{
  "cells": [
    {
      "cell_type": "code",
      "execution_count": 1,
      "id": "bd4d9e26",
      "metadata": {
        "id": "bd4d9e26"
      },
      "outputs": [],
      "source": [
        "import duckdb as dd\n",
        "\n",
        "# Create an in-memory DuckDB connection\n",
        "con = dd.connect(':memory:')"
      ]
    },
    {
      "cell_type": "code",
      "execution_count": 2,
      "id": "eaa679e8",
      "metadata": {
        "id": "eaa679e8",
        "outputId": "11dce9e4-be70-45e4-ede5-549e46dbf9ef",
        "colab": {
          "base_uri": "https://localhost:8080/"
        }
      },
      "outputs": [
        {
          "output_type": "execute_result",
          "data": {
            "text/plain": [
              "┌──────────┬─────────┬─────────┬──────────────┬──────────────┬───────────┐\n",
              "│ database │ schema  │  name   │ column_names │ column_types │ temporary │\n",
              "│ varchar  │ varchar │ varchar │  varchar[]   │  varchar[]   │  boolean  │\n",
              "├──────────┴─────────┴─────────┴──────────────┴──────────────┴───────────┤\n",
              "│                                 0 rows                                 │\n",
              "└────────────────────────────────────────────────────────────────────────┘"
            ]
          },
          "metadata": {},
          "execution_count": 2
        }
      ],
      "source": [
        "con = dd.connect('my_database.db')\n",
        "con.sql('SHOW ALL TABLES')"
      ]
    },
    {
      "cell_type": "code",
      "execution_count": 3,
      "id": "959ee27d",
      "metadata": {
        "id": "959ee27d"
      },
      "outputs": [],
      "source": [
        "#con.sql('DROP TABLE IF EXISTS fuels;')"
      ]
    },
    {
      "cell_type": "code",
      "execution_count": 5,
      "id": "b042943f",
      "metadata": {
        "id": "b042943f",
        "outputId": "c5f527b3-d9b1-4ac5-f157-a76d24c4f779",
        "colab": {
          "base_uri": "https://localhost:8080/"
        }
      },
      "outputs": [
        {
          "output_type": "execute_result",
          "data": {
            "text/plain": [
              "<duckdb.duckdb.DuckDBPyConnection at 0x7d0cd830d0f0>"
            ]
          },
          "metadata": {},
          "execution_count": 5
        }
      ],
      "source": [
        "con.execute('''\n",
        "    CREATE TABLE brands (\n",
        "        brandname TEXT unique\n",
        "    );\n",
        "''')"
      ]
    },
    {
      "cell_type": "code",
      "execution_count": 6,
      "id": "d973908e",
      "metadata": {
        "id": "d973908e",
        "outputId": "4a6b40de-7812-4fff-b16a-f5d003bc9815",
        "colab": {
          "base_uri": "https://localhost:8080/"
        }
      },
      "outputs": [
        {
          "output_type": "execute_result",
          "data": {
            "text/plain": [
              "<duckdb.duckdb.DuckDBPyConnection at 0x7d0cd830d0f0>"
            ]
          },
          "metadata": {},
          "execution_count": 6
        }
      ],
      "source": [
        "con.execute('''\n",
        "    CREATE TABLE fuels (\n",
        "        fuelcode TEXT unique\n",
        "    );\n",
        "''')"
      ]
    },
    {
      "cell_type": "code",
      "execution_count": 7,
      "id": "04bcbdfe",
      "metadata": {
        "id": "04bcbdfe",
        "outputId": "e2ad918e-22ec-4de2-d3e4-9922c909ee1e",
        "colab": {
          "base_uri": "https://localhost:8080/"
        }
      },
      "outputs": [
        {
          "output_type": "execute_result",
          "data": {
            "text/plain": [
              "<duckdb.duckdb.DuckDBPyConnection at 0x7d0cd830d0f0>"
            ]
          },
          "metadata": {},
          "execution_count": 7
        }
      ],
      "source": [
        "con.execute('''\n",
        "    CREATE TABLE stations (\n",
        "        stationname TEXT unique,\n",
        "        brand TEXT REFERENCES brands(brandname),\n",
        "        address TEXT,\n",
        "        suburb TEXT,\n",
        "        postalcode TEXT,\n",
        "        lat DOUBLE,\n",
        "        lon DOUBLE,\n",
        "    );\n",
        "''')"
      ]
    },
    {
      "cell_type": "code",
      "execution_count": 8,
      "id": "5e22f9e3",
      "metadata": {
        "id": "5e22f9e3",
        "outputId": "38f10703-3cf5-461d-8ee7-99262e4f02eb",
        "colab": {
          "base_uri": "https://localhost:8080/"
        }
      },
      "outputs": [
        {
          "output_type": "execute_result",
          "data": {
            "text/plain": [
              "<duckdb.duckdb.DuckDBPyConnection at 0x7d0cd830d0f0>"
            ]
          },
          "metadata": {},
          "execution_count": 8
        }
      ],
      "source": [
        "con.execute('''\n",
        "    CREATE TABLE prices (\n",
        "        fuelcode TEXT REFERENCES fuels(fuelcode),\n",
        "        station TEXT REFERENCES stations(stationname),\n",
        "        price DOUBLE,\n",
        "        updatetime TIMESTAMP\n",
        "    );\n",
        "''')"
      ]
    },
    {
      "cell_type": "code",
      "source": [],
      "metadata": {
        "id": "LKh4nzl8JxFz"
      },
      "id": "LKh4nzl8JxFz",
      "execution_count": null,
      "outputs": []
    },
    {
      "cell_type": "code",
      "execution_count": null,
      "id": "bfa822ad",
      "metadata": {
        "id": "bfa822ad"
      },
      "outputs": [],
      "source": [
        "import pandas as pd\n",
        "\n",
        "df = pd.DataFrame({\n",
        "    'brandname': ['seven eleven'],\n",
        "})\n",
        "\n",
        "con.sql('''\n",
        "        INSERT INTO brands (brandname)\n",
        "        SELECT * FROM df\n",
        "''')"
      ]
    },
    {
      "cell_type": "code",
      "execution_count": null,
      "id": "56369e83",
      "metadata": {
        "id": "56369e83",
        "outputId": "ec13972f-f10e-41f4-a695-81a9a9373988"
      },
      "outputs": [
        {
          "data": {
            "text/plain": [
              "┌──────────────┐\n",
              "│  brandname   │\n",
              "│   varchar    │\n",
              "├──────────────┤\n",
              "│ seven eleven │\n",
              "└──────────────┘"
            ]
          },
          "execution_count": 30,
          "metadata": {},
          "output_type": "execute_result"
        }
      ],
      "source": [
        "con.sql('select * from brands')"
      ]
    },
    {
      "cell_type": "code",
      "execution_count": null,
      "id": "cd15e1bf",
      "metadata": {
        "id": "cd15e1bf"
      },
      "outputs": [],
      "source": [
        "df = pd.DataFrame({\n",
        "    'fuelcode': ['94'],\n",
        "})\n",
        "\n",
        "con.sql('''\n",
        "        INSERT INTO fuels (fuelcode)\n",
        "        SELECT * FROM df\n",
        "''')"
      ]
    },
    {
      "cell_type": "code",
      "execution_count": null,
      "id": "c39fb7d5",
      "metadata": {
        "id": "c39fb7d5",
        "outputId": "1ec9f52e-9ce0-49b3-a1ea-6cdd69897871"
      },
      "outputs": [
        {
          "ename": "CatalogException",
          "evalue": "Catalog Error: Table with name fuels does not exist!\nDid you mean \"pg_class\"?",
          "output_type": "error",
          "traceback": [
            "\u001b[0;31m---------------------------------------------------------------------------\u001b[0m",
            "\u001b[0;31mCatalogException\u001b[0m                          Traceback (most recent call last)",
            "Cell \u001b[0;32mIn[51], line 1\u001b[0m\n\u001b[0;32m----> 1\u001b[0m \u001b[43mcon\u001b[49m\u001b[38;5;241;43m.\u001b[39;49m\u001b[43msql\u001b[49m\u001b[43m(\u001b[49m\u001b[38;5;124;43m'\u001b[39;49m\u001b[38;5;124;43mselect * from fuels\u001b[39;49m\u001b[38;5;124;43m'\u001b[39;49m\u001b[43m)\u001b[49m\n",
            "\u001b[0;31mCatalogException\u001b[0m: Catalog Error: Table with name fuels does not exist!\nDid you mean \"pg_class\"?"
          ]
        }
      ],
      "source": [
        "con.sql('select * from fuels')"
      ]
    },
    {
      "cell_type": "code",
      "execution_count": null,
      "id": "de490fc2",
      "metadata": {
        "id": "de490fc2",
        "outputId": "8eae6899-4774-4072-dcbd-e9e53243698f"
      },
      "outputs": [
        {
          "data": {
            "text/plain": [
              "┌─────────────┬──────────────┬───────────────┬─────────┬────────────┬────────┬────────┐\n",
              "│ stationname │    brand     │    address    │ suburb  │ postalcode │  lat   │  lon   │\n",
              "│   varchar   │   varchar    │    varchar    │ varchar │  varchar   │ double │ double │\n",
              "├─────────────┼──────────────┼───────────────┼─────────┼────────────┼────────┼────────┤\n",
              "│ station 1   │ seven eleven │ 1 brisbane st │ Chifley │ 2036       │   50.3 │ 20.901 │\n",
              "└─────────────┴──────────────┴───────────────┴─────────┴────────────┴────────┴────────┘"
            ]
          },
          "execution_count": 33,
          "metadata": {},
          "output_type": "execute_result"
        }
      ],
      "source": [
        "df = pd.DataFrame({\n",
        "    'stationname': ['station 1'],\n",
        "    'brand': ['seven eleven'],\n",
        "    'address': ['1 brisbane st'],\n",
        "    'suburb': ['Chifley'],\n",
        "    'postalcode': ['2036'],\n",
        "    'lat': [50.300],\n",
        "    'lon': [20.901],\n",
        "})\n",
        "\n",
        "con.sql('''\n",
        "        INSERT INTO stations (stationname, brand, address, suburb, postalcode, lat, lon)\n",
        "        SELECT * FROM df\n",
        "''')\n",
        "\n",
        "con.sql('select * from stations')"
      ]
    },
    {
      "cell_type": "code",
      "execution_count": null,
      "id": "7fc1fbbf",
      "metadata": {
        "id": "7fc1fbbf",
        "outputId": "6507f8fd-3172-4b01-cab1-12bd364a58b7"
      },
      "outputs": [
        {
          "data": {
            "text/plain": [
              "┌──────────┬───────────┬────────┬────────────────────────────┐\n",
              "│ fuelcode │  station  │ price  │         updatetime         │\n",
              "│ varchar  │  varchar  │ double │         timestamp          │\n",
              "├──────────┼───────────┼────────┼────────────────────────────┤\n",
              "│ 94       │ station 1 │  210.5 │ 2025-04-11 08:36:08.303049 │\n",
              "│ 94       │ station 1 │  210.5 │ 2025-04-11 08:36:43.802418 │\n",
              "└──────────┴───────────┴────────┴────────────────────────────┘"
            ]
          },
          "execution_count": 37,
          "metadata": {},
          "output_type": "execute_result"
        }
      ],
      "source": [
        "from datetime import datetime\n",
        "\n",
        "df = pd.DataFrame({\n",
        "    'station': ['station 1'],\n",
        "    'fuelcode': ['94'],\n",
        "    'updatetime': [datetime.now()],\n",
        "    'price': [210.5],\n",
        "})\n",
        "\n",
        "con.sql('''\n",
        "        INSERT INTO prices (station, fuelcode, updatetime, price)\n",
        "        SELECT * FROM df\n",
        "''')\n",
        "\n",
        "con.sql('select * from prices')"
      ]
    },
    {
      "cell_type": "code",
      "execution_count": null,
      "id": "c3654a62",
      "metadata": {
        "id": "c3654a62",
        "outputId": "46f9bbe4-6d17-42ef-b0bf-7128628b17b7"
      },
      "outputs": [
        {
          "data": {
            "text/plain": [
              "[('my_database', 'main', 'brands', ['brandname'], ['VARCHAR'], False),\n",
              " ('my_database', 'main', 'fuels', ['fuelcode'], ['VARCHAR'], False),\n",
              " ('my_database',\n",
              "  'main',\n",
              "  'prices',\n",
              "  ['fuelcode', 'station', 'price', 'updatetime'],\n",
              "  ['VARCHAR', 'VARCHAR', 'DOUBLE', 'TIMESTAMP'],\n",
              "  False),\n",
              " ('my_database',\n",
              "  'main',\n",
              "  'stations',\n",
              "  ['stationname', 'brand', 'address', 'suburb', 'postalcode', 'lat', 'lon'],\n",
              "  ['VARCHAR', 'VARCHAR', 'VARCHAR', 'VARCHAR', 'VARCHAR', 'DOUBLE', 'DOUBLE'],\n",
              "  False)]"
            ]
          },
          "execution_count": 55,
          "metadata": {},
          "output_type": "execute_result"
        }
      ],
      "source": [
        "import duckdb\n",
        "import graphviz\n",
        "\n",
        "\n",
        "tables = con.sql(\"\"\"\n",
        "    SHOW ALL TABLES;\n",
        "\"\"\").fetchall()\n",
        "\n",
        "tables"
      ]
    },
    {
      "cell_type": "code",
      "execution_count": null,
      "id": "b81319ab",
      "metadata": {
        "id": "b81319ab"
      },
      "outputs": [],
      "source": []
    }
  ],
  "metadata": {
    "kernelspec": {
      "display_name": "Python 3",
      "language": "python",
      "name": "python3"
    },
    "language_info": {
      "codemirror_mode": {
        "name": "ipython",
        "version": 3
      },
      "file_extension": ".py",
      "mimetype": "text/x-python",
      "name": "python",
      "nbconvert_exporter": "python",
      "pygments_lexer": "ipython3",
      "version": "3.12.1"
    },
    "colab": {
      "provenance": []
    }
  },
  "nbformat": 4,
  "nbformat_minor": 5
}
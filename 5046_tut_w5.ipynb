{
 "cells": [
  {
   "cell_type": "code",
   "execution_count": 1,
   "metadata": {},
   "outputs": [
    {
     "data": {
      "text/plain": [
       "<Response [200]>"
      ]
     },
     "execution_count": 1,
     "metadata": {},
     "output_type": "execute_result"
    }
   ],
   "source": [
    "import requests\n",
    "\n",
    "year = '2022'\n",
    "\n",
    "response = requests.get(f\"https://api.worldbank.org/v2/country/aus/indicator/SP.POP.TOTL?date={year}&format=json\")\n",
    "\n",
    "response"
   ]
  },
  {
   "cell_type": "code",
   "execution_count": 2,
   "metadata": {},
   "outputs": [
    {
     "data": {
      "text/html": [
       "\n",
       "    <style> body {font-family: \"Roboto Condensed Light\", \"Roboto Condensed\";} h2 {padding: 10px 12px; background-color: #E64626; position: static; color: #ffffff; font-size: 40px;} .text_cell_render p { font-size: 15px; } .text_cell_render h1 { font-size: 30px; } h1 {padding: 10px 12px; background-color: #E64626; color: #ffffff; font-size: 40px;} .text_cell_render h3 { padding: 10px 12px; background-color: #0148A4; position: static; color: #ffffff; font-size: 20px;} h4:before{ \n",
       "    content: \"@\"; font-family:\"Wingdings\"; font-style:regular; margin-right: 4px;} .text_cell_render h4 {padding: 8px; font-family: \"Roboto Condensed Light\"; position: static; font-style: italic; background-color: #FFB800; color: #ffffff; font-size: 18px; text-align: center; border-radius: 5px;}input[type=submit] {background-color: #E64626; border: solid; border-color: #734036; color: white; padding: 8px 16px; text-decoration: none; margin: 4px 2px; cursor: pointer; border-radius: 20px;}</style>\n",
       "    <script> code_show=true; function code_toggle() {if (code_show){$('div.input').hide();} else {$('div.input').show();} code_show = !code_show} $( document ).ready(code_toggle);</script>\n",
       "    <form action=\"javascript:code_toggle()\"><input type=\"submit\" value=\"Hide/show all code.\"></form>\n"
      ],
      "text/plain": [
       "<IPython.core.display.HTML object>"
      ]
     },
     "execution_count": 2,
     "metadata": {},
     "output_type": "execute_result"
    }
   ],
   "source": [
    "from IPython.display import HTML\n",
    "HTML('''\n",
    "    <style> body {font-family: \"Roboto Condensed Light\", \"Roboto Condensed\";} h2 {padding: 10px 12px; background-color: #E64626; position: static; color: #ffffff; font-size: 40px;} .text_cell_render p { font-size: 15px; } .text_cell_render h1 { font-size: 30px; } h1 {padding: 10px 12px; background-color: #E64626; color: #ffffff; font-size: 40px;} .text_cell_render h3 { padding: 10px 12px; background-color: #0148A4; position: static; color: #ffffff; font-size: 20px;} h4:before{ \n",
    "    content: \"@\"; font-family:\"Wingdings\"; font-style:regular; margin-right: 4px;} .text_cell_render h4 {padding: 8px; font-family: \"Roboto Condensed Light\"; position: static; font-style: italic; background-color: #FFB800; color: #ffffff; font-size: 18px; text-align: center; border-radius: 5px;}input[type=submit] {background-color: #E64626; border: solid; border-color: #734036; color: white; padding: 8px 16px; text-decoration: none; margin: 4px 2px; cursor: pointer; border-radius: 20px;}</style>\n",
    "    <script> code_show=true; function code_toggle() {if (code_show){$('div.input').hide();} else {$('div.input').show();} code_show = !code_show} $( document ).ready(code_toggle);</script>\n",
    "    <form action=\"javascript:code_toggle()\"><input type=\"submit\" value=\"Hide/show all code.\"></form>\n",
    "''')"
   ]
  },
  {
   "cell_type": "code",
   "execution_count": 3,
   "metadata": {},
   "outputs": [
    {
     "data": {
      "text/plain": [
       "[{'page': 1,\n",
       "  'pages': 1,\n",
       "  'per_page': 50,\n",
       "  'total': 1,\n",
       "  'sourceid': '2',\n",
       "  'lastupdated': '2025-03-24'},\n",
       " [{'indicator': {'id': 'SP.POP.TOTL', 'value': 'Population, total'},\n",
       "   'country': {'id': 'AU', 'value': 'Australia'},\n",
       "   'countryiso3code': 'AUS',\n",
       "   'date': '2022',\n",
       "   'value': 26014399,\n",
       "   'unit': '',\n",
       "   'obs_status': '',\n",
       "   'decimal': 0}]]"
      ]
     },
     "execution_count": 3,
     "metadata": {},
     "output_type": "execute_result"
    }
   ],
   "source": [
    "response.json()"
   ]
  },
  {
   "cell_type": "code",
   "execution_count": 4,
   "metadata": {},
   "outputs": [
    {
     "name": "stdout",
     "output_type": "stream",
     "text": [
      "[\n",
      "    {\n",
      "        \"lastupdated\": \"2025-03-24\",\n",
      "        \"page\": 1,\n",
      "        \"pages\": 1,\n",
      "        \"per_page\": 50,\n",
      "        \"sourceid\": \"2\",\n",
      "        \"total\": 1\n",
      "    },\n",
      "    [\n",
      "        {\n",
      "            \"country\": {\n",
      "                \"id\": \"AU\",\n",
      "                \"value\": \"Australia\"\n",
      "            },\n",
      "            \"countryiso3code\": \"AUS\",\n",
      "            \"date\": \"2022\",\n",
      "            \"decimal\": 0,\n",
      "            \"indicator\": {\n",
      "                \"id\": \"SP.POP.TOTL\",\n",
      "                \"value\": \"Population, total\"\n",
      "            },\n",
      "            \"obs_status\": \"\",\n",
      "            \"unit\": \"\",\n",
      "            \"value\": 26014399\n",
      "        }\n",
      "    ]\n",
      "]\n"
     ]
    }
   ],
   "source": [
    "import json\n",
    "print(json.dumps(response.json(), indent=4, sort_keys=True))"
   ]
  },
  {
   "cell_type": "code",
   "execution_count": 5,
   "metadata": {},
   "outputs": [],
   "source": [
    "import ipywidgets as widgets\n",
    "def display_image(response, w=200, h=300):\n",
    "    return widgets.Image(value=response.content, format='jpg', width=w, height=h)"
   ]
  },
  {
   "cell_type": "code",
   "execution_count": 6,
   "metadata": {},
   "outputs": [],
   "source": [
    "response = requests.get('https://place.dog/300/200')"
   ]
  },
  {
   "cell_type": "code",
   "execution_count": 7,
   "metadata": {},
   "outputs": [
    {
     "data": {
      "text/plain": [
       "dict_keys(['message', 'status'])"
      ]
     },
     "execution_count": 7,
     "metadata": {},
     "output_type": "execute_result"
    }
   ],
   "source": [
    "response = requests.get('https://dog.ceo/api/breed/labrador/images/random')\n",
    "breeds = response.json()\n",
    "breeds.keys()"
   ]
  },
  {
   "cell_type": "code",
   "execution_count": 8,
   "metadata": {},
   "outputs": [],
   "source": [
    "def random_dog(breed):\n",
    "    # This command returns a URL to a random image of the selected dog breed.\n",
    "    # We would need to do another call of requests.get() to get the actual image.\n",
    "    response = requests.get(f'https://dog.ceo/api/breed/{breed}/images/random')\n",
    "    breed = response.json()['message']\n",
    "    response_image = requests.get(breed)\n",
    "    return display_image(response_image)"
   ]
  },
  {
   "cell_type": "code",
   "execution_count": 9,
   "metadata": {},
   "outputs": [
    {
     "name": "stdout",
     "output_type": "stream",
     "text": [
      "200\n"
     ]
    },
    {
     "data": {
      "text/plain": [
       "[{'id': 'cs9',\n",
       "  'url': 'https://cdn2.thecatapi.com/images/cs9.jpg',\n",
       "  'width': 598,\n",
       "  'height': 541}]"
      ]
     },
     "execution_count": 9,
     "metadata": {},
     "output_type": "execute_result"
    }
   ],
   "source": [
    "import pandas as pd\n",
    "response = requests.get('https://api.thecatapi.com/v1/images/search')\n",
    "print(response.status_code)\n",
    "animal_info = response.json()\n",
    "animal_info"
   ]
  },
  {
   "cell_type": "code",
   "execution_count": 10,
   "metadata": {},
   "outputs": [],
   "source": [
    "import time as t\n",
    "def address_details(params, wait=5):\n",
    "    base_url = 'https://nominatim.openstreetmap.org/search'\n",
    "    headers = {'User-Agent': 'COMP5339'}\n",
    "    t.sleep(wait)  # 5 second wait to avoid overloading (too many requests could look out the whole uni's IP range!)\n",
    "    response = requests.get(base_url, params = params, headers = headers)\n",
    "    return response.json()"
   ]
  },
  {
   "cell_type": "code",
   "execution_count": 11,
   "metadata": {},
   "outputs": [
    {
     "name": "stdout",
     "output_type": "stream",
     "text": [
      "[\n",
      "    {\n",
      "        \"place_id\": 19203128,\n",
      "        \"licence\": \"Data \\u00a9 OpenStreetMap contributors, ODbL 1.0. http://osm.org/copyright\",\n",
      "        \"osm_type\": \"node\",\n",
      "        \"osm_id\": 4127856495,\n",
      "        \"lat\": \"-33.8879173\",\n",
      "        \"lon\": \"151.1949359\",\n",
      "        \"class\": \"place\",\n",
      "        \"type\": \"house\",\n",
      "        \"place_rank\": 30,\n",
      "        \"importance\": 8.246051728079679e-05,\n",
      "        \"addresstype\": \"place\",\n",
      "        \"name\": \"\",\n",
      "        \"display_name\": \"50, Cleveland Street, Chippendale, Sydney CBD, Sydney, Council of the City of Sydney, New South Wales, 2008, Australia\",\n",
      "        \"boundingbox\": [\n",
      "            \"-33.8879673\",\n",
      "            \"-33.8878673\",\n",
      "            \"151.1948859\",\n",
      "            \"151.1949859\"\n",
      "        ]\n",
      "    }\n",
      "]\n"
     ]
    }
   ],
   "source": [
    "parameters = {'q': '50 Cleveland Street, Chippendale, Australia', 'format': 'json', 'addressdetails': 0}\n",
    "results = address_details(parameters)\n",
    "print(json.dumps(results, indent=4))"
   ]
  },
  {
   "cell_type": "code",
   "execution_count": 12,
   "metadata": {},
   "outputs": [
    {
     "name": "stdout",
     "output_type": "stream",
     "text": [
      "[\n",
      "    {\n",
      "        \"place_id\": 19203128,\n",
      "        \"licence\": \"Data \\u00a9 OpenStreetMap contributors, ODbL 1.0. http://osm.org/copyright\",\n",
      "        \"osm_type\": \"node\",\n",
      "        \"osm_id\": 4127856495,\n",
      "        \"lat\": \"-33.8879173\",\n",
      "        \"lon\": \"151.1949359\",\n",
      "        \"class\": \"place\",\n",
      "        \"type\": \"house\",\n",
      "        \"place_rank\": 30,\n",
      "        \"importance\": 8.246051728079679e-05,\n",
      "        \"addresstype\": \"place\",\n",
      "        \"name\": \"\",\n",
      "        \"display_name\": \"50, Cleveland Street, Chippendale, Sydney CBD, Sydney, Council of the City of Sydney, New South Wales, 2008, Australia\",\n",
      "        \"address\": {\n",
      "            \"house_number\": \"50\",\n",
      "            \"road\": \"Cleveland Street\",\n",
      "            \"suburb\": \"Chippendale\",\n",
      "            \"borough\": \"Sydney CBD\",\n",
      "            \"city\": \"Sydney\",\n",
      "            \"municipality\": \"Council of the City of Sydney\",\n",
      "            \"state\": \"New South Wales\",\n",
      "            \"ISO3166-2-lvl4\": \"AU-NSW\",\n",
      "            \"postcode\": \"2008\",\n",
      "            \"country\": \"Australia\",\n",
      "            \"country_code\": \"au\"\n",
      "        },\n",
      "        \"boundingbox\": [\n",
      "            \"-33.8879673\",\n",
      "            \"-33.8878673\",\n",
      "            \"151.1948859\",\n",
      "            \"151.1949859\"\n",
      "        ]\n",
      "    },\n",
      "    {\n",
      "        \"place_id\": 23169133,\n",
      "        \"licence\": \"Data \\u00a9 OpenStreetMap contributors, ODbL 1.0. http://osm.org/copyright\",\n",
      "        \"osm_type\": \"node\",\n",
      "        \"osm_id\": 6351438673,\n",
      "        \"lat\": \"-27.4999818\",\n",
      "        \"lon\": \"153.044542\",\n",
      "        \"class\": \"place\",\n",
      "        \"type\": \"house\",\n",
      "        \"place_rank\": 30,\n",
      "        \"importance\": 7.694132906076169e-05,\n",
      "        \"addresstype\": \"place\",\n",
      "        \"name\": \"\",\n",
      "        \"display_name\": \"50, Cleveland Street, Stones Corner, City of Brisbane, Queensland, 4120, Australia\",\n",
      "        \"address\": {\n",
      "            \"house_number\": \"50\",\n",
      "            \"road\": \"Cleveland Street\",\n",
      "            \"suburb\": \"Stones Corner\",\n",
      "            \"city_district\": \"Stones Corner\",\n",
      "            \"city\": \"City of Brisbane\",\n",
      "            \"state\": \"Queensland\",\n",
      "            \"ISO3166-2-lvl4\": \"AU-QLD\",\n",
      "            \"postcode\": \"4120\",\n",
      "            \"country\": \"Australia\",\n",
      "            \"country_code\": \"au\"\n",
      "        },\n",
      "        \"boundingbox\": [\n",
      "            \"-27.5000318\",\n",
      "            \"-27.4999318\",\n",
      "            \"153.0444920\",\n",
      "            \"153.0445920\"\n",
      "        ]\n",
      "    },\n",
      "    {\n",
      "        \"place_id\": 28638396,\n",
      "        \"licence\": \"Data \\u00a9 OpenStreetMap contributors, ODbL 1.0. http://osm.org/copyright\",\n",
      "        \"osm_type\": \"way\",\n",
      "        \"osm_id\": 424520657,\n",
      "        \"lat\": \"-31.90439355\",\n",
      "        \"lon\": \"115.87766334594444\",\n",
      "        \"class\": \"building\",\n",
      "        \"type\": \"detached\",\n",
      "        \"place_rank\": 30,\n",
      "        \"importance\": 7.485389486529362e-05,\n",
      "        \"addresstype\": \"building\",\n",
      "        \"name\": \"\",\n",
      "        \"display_name\": \"50, Cleveland Street, Dianella, City of Stirling, Western Australia, 6059, Australia\",\n",
      "        \"address\": {\n",
      "            \"house_number\": \"50\",\n",
      "            \"road\": \"Cleveland Street\",\n",
      "            \"suburb\": \"Dianella\",\n",
      "            \"municipality\": \"City of Stirling\",\n",
      "            \"state\": \"Western Australia\",\n",
      "            \"ISO3166-2-lvl4\": \"AU-WA\",\n",
      "            \"postcode\": \"6059\",\n",
      "            \"country\": \"Australia\",\n",
      "            \"country_code\": \"au\"\n",
      "        },\n",
      "        \"boundingbox\": [\n",
      "            \"-31.9045071\",\n",
      "            \"-31.9042817\",\n",
      "            \"115.8775241\",\n",
      "            \"115.8777910\"\n",
      "        ]\n",
      "    }\n",
      "]\n"
     ]
    }
   ],
   "source": [
    "parameters = {'q': '50 Cleveland Street, Australia', 'format': 'json', 'addressdetails': 1}\n",
    "results = address_details(parameters)\n",
    "print(json.dumps(results, indent=4))"
   ]
  },
  {
   "cell_type": "code",
   "execution_count": 13,
   "metadata": {},
   "outputs": [
    {
     "data": {
      "text/html": [
       "<div>\n",
       "<style scoped>\n",
       "    .dataframe tbody tr th:only-of-type {\n",
       "        vertical-align: middle;\n",
       "    }\n",
       "\n",
       "    .dataframe tbody tr th {\n",
       "        vertical-align: top;\n",
       "    }\n",
       "\n",
       "    .dataframe thead th {\n",
       "        text-align: right;\n",
       "    }\n",
       "</style>\n",
       "<table border=\"1\" class=\"dataframe\">\n",
       "  <thead>\n",
       "    <tr style=\"text-align: right;\">\n",
       "      <th></th>\n",
       "      <th>place_id</th>\n",
       "      <th>licence</th>\n",
       "      <th>osm_type</th>\n",
       "      <th>osm_id</th>\n",
       "      <th>lat</th>\n",
       "      <th>lon</th>\n",
       "      <th>class</th>\n",
       "      <th>type</th>\n",
       "      <th>place_rank</th>\n",
       "      <th>importance</th>\n",
       "      <th>...</th>\n",
       "      <th>address.suburb</th>\n",
       "      <th>address.borough</th>\n",
       "      <th>address.city</th>\n",
       "      <th>address.municipality</th>\n",
       "      <th>address.state</th>\n",
       "      <th>address.ISO3166-2-lvl4</th>\n",
       "      <th>address.postcode</th>\n",
       "      <th>address.country</th>\n",
       "      <th>address.country_code</th>\n",
       "      <th>address.city_district</th>\n",
       "    </tr>\n",
       "  </thead>\n",
       "  <tbody>\n",
       "    <tr>\n",
       "      <th>0</th>\n",
       "      <td>19203128</td>\n",
       "      <td>Data © OpenStreetMap contributors, ODbL 1.0. h...</td>\n",
       "      <td>node</td>\n",
       "      <td>4127856495</td>\n",
       "      <td>-33.8879173</td>\n",
       "      <td>151.1949359</td>\n",
       "      <td>place</td>\n",
       "      <td>house</td>\n",
       "      <td>30</td>\n",
       "      <td>0.000082</td>\n",
       "      <td>...</td>\n",
       "      <td>Chippendale</td>\n",
       "      <td>Sydney CBD</td>\n",
       "      <td>Sydney</td>\n",
       "      <td>Council of the City of Sydney</td>\n",
       "      <td>New South Wales</td>\n",
       "      <td>AU-NSW</td>\n",
       "      <td>2008</td>\n",
       "      <td>Australia</td>\n",
       "      <td>au</td>\n",
       "      <td>NaN</td>\n",
       "    </tr>\n",
       "    <tr>\n",
       "      <th>1</th>\n",
       "      <td>23169133</td>\n",
       "      <td>Data © OpenStreetMap contributors, ODbL 1.0. h...</td>\n",
       "      <td>node</td>\n",
       "      <td>6351438673</td>\n",
       "      <td>-27.4999818</td>\n",
       "      <td>153.044542</td>\n",
       "      <td>place</td>\n",
       "      <td>house</td>\n",
       "      <td>30</td>\n",
       "      <td>0.000077</td>\n",
       "      <td>...</td>\n",
       "      <td>Stones Corner</td>\n",
       "      <td>NaN</td>\n",
       "      <td>City of Brisbane</td>\n",
       "      <td>NaN</td>\n",
       "      <td>Queensland</td>\n",
       "      <td>AU-QLD</td>\n",
       "      <td>4120</td>\n",
       "      <td>Australia</td>\n",
       "      <td>au</td>\n",
       "      <td>Stones Corner</td>\n",
       "    </tr>\n",
       "    <tr>\n",
       "      <th>2</th>\n",
       "      <td>28638396</td>\n",
       "      <td>Data © OpenStreetMap contributors, ODbL 1.0. h...</td>\n",
       "      <td>way</td>\n",
       "      <td>424520657</td>\n",
       "      <td>-31.90439355</td>\n",
       "      <td>115.87766334594444</td>\n",
       "      <td>building</td>\n",
       "      <td>detached</td>\n",
       "      <td>30</td>\n",
       "      <td>0.000075</td>\n",
       "      <td>...</td>\n",
       "      <td>Dianella</td>\n",
       "      <td>NaN</td>\n",
       "      <td>NaN</td>\n",
       "      <td>City of Stirling</td>\n",
       "      <td>Western Australia</td>\n",
       "      <td>AU-WA</td>\n",
       "      <td>6059</td>\n",
       "      <td>Australia</td>\n",
       "      <td>au</td>\n",
       "      <td>NaN</td>\n",
       "    </tr>\n",
       "  </tbody>\n",
       "</table>\n",
       "<p>3 rows × 26 columns</p>\n",
       "</div>"
      ],
      "text/plain": [
       "   place_id                                            licence osm_type  \\\n",
       "0  19203128  Data © OpenStreetMap contributors, ODbL 1.0. h...     node   \n",
       "1  23169133  Data © OpenStreetMap contributors, ODbL 1.0. h...     node   \n",
       "2  28638396  Data © OpenStreetMap contributors, ODbL 1.0. h...      way   \n",
       "\n",
       "       osm_id           lat                 lon     class      type  \\\n",
       "0  4127856495   -33.8879173         151.1949359     place     house   \n",
       "1  6351438673   -27.4999818          153.044542     place     house   \n",
       "2   424520657  -31.90439355  115.87766334594444  building  detached   \n",
       "\n",
       "   place_rank  importance  ... address.suburb address.borough  \\\n",
       "0          30    0.000082  ...    Chippendale      Sydney CBD   \n",
       "1          30    0.000077  ...  Stones Corner             NaN   \n",
       "2          30    0.000075  ...       Dianella             NaN   \n",
       "\n",
       "       address.city           address.municipality      address.state  \\\n",
       "0            Sydney  Council of the City of Sydney    New South Wales   \n",
       "1  City of Brisbane                            NaN         Queensland   \n",
       "2               NaN               City of Stirling  Western Australia   \n",
       "\n",
       "  address.ISO3166-2-lvl4 address.postcode address.country  \\\n",
       "0                 AU-NSW             2008       Australia   \n",
       "1                 AU-QLD             4120       Australia   \n",
       "2                  AU-WA             6059       Australia   \n",
       "\n",
       "  address.country_code address.city_district  \n",
       "0                   au                   NaN  \n",
       "1                   au         Stones Corner  \n",
       "2                   au                   NaN  \n",
       "\n",
       "[3 rows x 26 columns]"
      ]
     },
     "execution_count": 13,
     "metadata": {},
     "output_type": "execute_result"
    }
   ],
   "source": [
    "pd.json_normalize(results)"
   ]
  },
  {
   "cell_type": "code",
   "execution_count": 17,
   "metadata": {},
   "outputs": [
    {
     "name": "stdout",
     "output_type": "stream",
     "text": [
      "[\n",
      "    {\n",
      "        \"place_id\": 19203128,\n",
      "        \"licence\": \"Data \\u00a9 OpenStreetMap contributors, ODbL 1.0. http://osm.org/copyright\",\n",
      "        \"osm_type\": \"node\",\n",
      "        \"osm_id\": 4127856495,\n",
      "        \"lat\": \"-33.8879173\",\n",
      "        \"lon\": \"151.1949359\",\n",
      "        \"class\": \"place\",\n",
      "        \"type\": \"house\",\n",
      "        \"place_rank\": 30,\n",
      "        \"importance\": 8.246051728079679e-05,\n",
      "        \"addresstype\": \"place\",\n",
      "        \"name\": \"\",\n",
      "        \"display_name\": \"50, Cleveland Street, Chippendale, Sydney CBD, Sydney, Council of the City of Sydney, New South Wales, 2008, Australia\",\n",
      "        \"address\": {\n",
      "            \"house_number\": \"50\",\n",
      "            \"road\": \"Cleveland Street\",\n",
      "            \"suburb\": \"Chippendale\",\n",
      "            \"borough\": \"Sydney CBD\",\n",
      "            \"city\": \"Sydney\",\n",
      "            \"municipality\": \"Council of the City of Sydney\",\n",
      "            \"state\": \"New South Wales\",\n",
      "            \"ISO3166-2-lvl4\": \"AU-NSW\",\n",
      "            \"postcode\": \"2008\",\n",
      "            \"country\": \"Australia\",\n",
      "            \"country_code\": \"au\"\n",
      "        },\n",
      "        \"extratags\": null,\n",
      "        \"boundingbox\": [\n",
      "            \"-33.8879673\",\n",
      "            \"-33.8878673\",\n",
      "            \"151.1948859\",\n",
      "            \"151.1949859\"\n",
      "        ]\n",
      "    },\n",
      "    {\n",
      "        \"place_id\": 23169133,\n",
      "        \"licence\": \"Data \\u00a9 OpenStreetMap contributors, ODbL 1.0. http://osm.org/copyright\",\n",
      "        \"osm_type\": \"node\",\n",
      "        \"osm_id\": 6351438673,\n",
      "        \"lat\": \"-27.4999818\",\n",
      "        \"lon\": \"153.044542\",\n",
      "        \"class\": \"place\",\n",
      "        \"type\": \"house\",\n",
      "        \"place_rank\": 30,\n",
      "        \"importance\": 7.694132906076169e-05,\n",
      "        \"addresstype\": \"place\",\n",
      "        \"name\": \"\",\n",
      "        \"display_name\": \"50, Cleveland Street, Stones Corner, City of Brisbane, Queensland, 4120, Australia\",\n",
      "        \"address\": {\n",
      "            \"house_number\": \"50\",\n",
      "            \"road\": \"Cleveland Street\",\n",
      "            \"suburb\": \"Stones Corner\",\n",
      "            \"city_district\": \"Stones Corner\",\n",
      "            \"city\": \"City of Brisbane\",\n",
      "            \"state\": \"Queensland\",\n",
      "            \"ISO3166-2-lvl4\": \"AU-QLD\",\n",
      "            \"postcode\": \"4120\",\n",
      "            \"country\": \"Australia\",\n",
      "            \"country_code\": \"au\"\n",
      "        },\n",
      "        \"extratags\": {\n",
      "            \"source:date\": \"2018-12-14\"\n",
      "        },\n",
      "        \"boundingbox\": [\n",
      "            \"-27.5000318\",\n",
      "            \"-27.4999318\",\n",
      "            \"153.0444920\",\n",
      "            \"153.0445920\"\n",
      "        ]\n",
      "    },\n",
      "    {\n",
      "        \"place_id\": 28638396,\n",
      "        \"licence\": \"Data \\u00a9 OpenStreetMap contributors, ODbL 1.0. http://osm.org/copyright\",\n",
      "        \"osm_type\": \"way\",\n",
      "        \"osm_id\": 424520657,\n",
      "        \"lat\": \"-31.90439355\",\n",
      "        \"lon\": \"115.87766334594444\",\n",
      "        \"class\": \"building\",\n",
      "        \"type\": \"detached\",\n",
      "        \"place_rank\": 30,\n",
      "        \"importance\": 7.485389486529362e-05,\n",
      "        \"addresstype\": \"building\",\n",
      "        \"name\": \"\",\n",
      "        \"display_name\": \"50, Cleveland Street, Dianella, City of Stirling, Western Australia, 6059, Australia\",\n",
      "        \"address\": {\n",
      "            \"house_number\": \"50\",\n",
      "            \"road\": \"Cleveland Street\",\n",
      "            \"suburb\": \"Dianella\",\n",
      "            \"municipality\": \"City of Stirling\",\n",
      "            \"state\": \"Western Australia\",\n",
      "            \"ISO3166-2-lvl4\": \"AU-WA\",\n",
      "            \"postcode\": \"6059\",\n",
      "            \"country\": \"Australia\",\n",
      "            \"country_code\": \"au\"\n",
      "        },\n",
      "        \"extratags\": null,\n",
      "        \"boundingbox\": [\n",
      "            \"-31.9045071\",\n",
      "            \"-31.9042817\",\n",
      "            \"115.8775241\",\n",
      "            \"115.8777910\"\n",
      "        ]\n",
      "    }\n",
      "]\n"
     ]
    }
   ],
   "source": [
    "parameters = {'q': '50 Cleveland Street, Australia', 'format': 'json', 'addressdetails': 1,\n",
    "    'extratags': 1}\n",
    "results = address_details(parameters)\n",
    "print(json.dumps(results, indent=4))"
   ]
  },
  {
   "cell_type": "code",
   "execution_count": 28,
   "metadata": {},
   "outputs": [
    {
     "name": "stdout",
     "output_type": "stream",
     "text": [
      "[\n",
      "    {\n",
      "        \"place_id\": 19350604,\n",
      "        \"licence\": \"Data \\u00a9 OpenStreetMap contributors, ODbL 1.0. http://osm.org/copyright\",\n",
      "        \"osm_type\": \"way\",\n",
      "        \"osm_id\": 172461085,\n",
      "        \"lat\": \"-33.96671811828823\",\n",
      "        \"lon\": \"151.2394281365529\",\n",
      "        \"class\": \"highway\",\n",
      "        \"type\": \"residential\",\n",
      "        \"place_rank\": 26,\n",
      "        \"importance\": 0.05341579385061414,\n",
      "        \"addresstype\": \"road\",\n",
      "        \"name\": \"Brisbane Street\",\n",
      "        \"display_name\": \"Brisbane Street, Chifley, Eastern Suburbs, Sydney, Randwick City Council, New South Wales, 2036, Australia\",\n",
      "        \"address\": {\n",
      "            \"road\": \"Brisbane Street\",\n",
      "            \"suburb\": \"Chifley\",\n",
      "            \"borough\": \"Eastern Suburbs\",\n",
      "            \"city\": \"Sydney\",\n",
      "            \"municipality\": \"Randwick City Council\",\n",
      "            \"state\": \"New South Wales\",\n",
      "            \"ISO3166-2-lvl4\": \"AU-NSW\",\n",
      "            \"postcode\": \"2036\",\n",
      "            \"country\": \"Australia\",\n",
      "            \"country_code\": \"au\"\n",
      "        },\n",
      "        \"extratags\": {\n",
      "            \"surface\": \"asphalt\"\n",
      "        },\n",
      "        \"boundingbox\": [\n",
      "            \"-33.9677640\",\n",
      "            \"-33.9656538\",\n",
      "            \"151.2375271\",\n",
      "            \"151.2413434\"\n",
      "        ]\n",
      "    }\n",
      "]\n"
     ]
    }
   ],
   "source": [
    "parameters = {'q': '1 Brisbane Street, Chifley, Sydney', 'format': 'json', 'addressdetails': 1, 'extratags': 1}\n",
    "results = address_details(parameters)\n",
    "print(json.dumps(results, indent=4))"
   ]
  },
  {
   "cell_type": "code",
   "execution_count": 29,
   "metadata": {},
   "outputs": [
    {
     "name": "stdout",
     "output_type": "stream",
     "text": [
      "{'surface': 'asphalt'}\n"
     ]
    }
   ],
   "source": [
    "parsed = results\n",
    "print(parsed[0]['extratags'])"
   ]
  },
  {
   "cell_type": "code",
   "execution_count": 30,
   "metadata": {},
   "outputs": [
    {
     "data": {
      "text/plain": [
       "{'error': {'code': 400,\n",
       "  'message': 'API key not valid. Please pass a valid API key.',\n",
       "  'errors': [{'message': 'API key not valid. Please pass a valid API key.',\n",
       "    'domain': 'global',\n",
       "    'reason': 'badRequest'}],\n",
       "  'status': 'INVALID_ARGUMENT',\n",
       "  'details': [{'@type': 'type.googleapis.com/google.rpc.ErrorInfo',\n",
       "    'reason': 'API_KEY_INVALID',\n",
       "    'domain': 'googleapis.com',\n",
       "    'metadata': {'service': 'youtube.googleapis.com'}},\n",
       "   {'@type': 'type.googleapis.com/google.rpc.LocalizedMessage',\n",
       "    'locale': 'en-US',\n",
       "    'message': 'API key not valid. Please pass a valid API key.'}]}}"
      ]
     },
     "execution_count": 30,
     "metadata": {},
     "output_type": "execute_result"
    }
   ],
   "source": [
    "API_KEY = \"?\" # your api key here\n",
    "CHANNEL_ID = \"UChyxYzq0ZAB0iBw-A1l5jFA\"\n",
    "pageToken = \"\"\n",
    "\n",
    "url = \"https://www.googleapis.com/youtube/v3/search?key=\"+\\\n",
    "API_KEY+\"&channelId=\"+CHANNEL_ID+\"&part=snippet,id&order=date&maxResults=10000\"+pageToken\n",
    "response = requests.get(url).json()\n",
    "response"
   ]
  },
  {
   "cell_type": "code",
   "execution_count": null,
   "metadata": {},
   "outputs": [],
   "source": []
  }
 ],
 "metadata": {
  "kernelspec": {
   "display_name": "Python 3",
   "language": "python",
   "name": "python3"
  },
  "language_info": {
   "codemirror_mode": {
    "name": "ipython",
    "version": 3
   },
   "file_extension": ".py",
   "mimetype": "text/x-python",
   "name": "python",
   "nbconvert_exporter": "python",
   "pygments_lexer": "ipython3",
   "version": "3.12.1"
  }
 },
 "nbformat": 4,
 "nbformat_minor": 2
}
